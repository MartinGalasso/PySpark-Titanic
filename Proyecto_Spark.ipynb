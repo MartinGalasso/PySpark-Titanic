{
 "cells": [
  {
   "cell_type": "markdown",
   "id": "a8fbe836",
   "metadata": {},
   "source": [
    "## Importamos de la libreria pyspark funciones y para iniciar SparkSession"
   ]
  },
  {
   "cell_type": "code",
   "execution_count": 1,
   "id": "6275518e",
   "metadata": {},
   "outputs": [],
   "source": [
    "from pyspark.sql import SparkSession\n",
    "from pyspark.sql.types import IntegerType\n",
    "from pyspark.sql.types import DoubleType\n",
    "from pyspark.sql.types import StringType\n",
    "from pyspark.sql.functions import sum, when, col\n",
    "import pyspark.sql.functions as F\n",
    "from pyspark.sql.functions import lpad\n",
    "from pyspark.sql.functions import round,avg\n",
    "import pandas as pd"
   ]
  },
  {
   "cell_type": "markdown",
   "id": "29b0bb58",
   "metadata": {},
   "source": [
    "## Creamos la sesion Spark"
   ]
  },
  {
   "cell_type": "code",
   "execution_count": 2,
   "id": "63b75d92",
   "metadata": {
    "scrolled": true
   },
   "outputs": [
    {
     "name": "stderr",
     "output_type": "stream",
     "text": [
      "C:\\Anaconda\\envs\\BigData\\lib\\site-packages\\pyspark\\context.py:238: FutureWarning: Python 3.6 support is deprecated in Spark 3.2.\n",
      "  FutureWarning\n"
     ]
    }
   ],
   "source": [
    "spark = SparkSession.builder .appName(\"MiAplicacion\") .getOrCreate()"
   ]
  },
  {
   "cell_type": "markdown",
   "id": "cb7b322c",
   "metadata": {},
   "source": [
    "##  Leemos el archivo mediante la variable spark que contiene sparksession.\n",
    "### Al poner como variable header, reconocemos que tiene titulo, y con inferSchema, adapta el csv con sus tipos de datos (Integer, String y Double(Float))"
   ]
  },
  {
   "cell_type": "code",
   "execution_count": 3,
   "id": "17d34caa",
   "metadata": {},
   "outputs": [],
   "source": [
    "df = spark.read.csv('C:\\\\Users\\\\camil\\\\Desktop\\\\New Folder\\\\BBDD-PowerBi-Excel\\\\titanic.csv',header=True, inferSchema=True)\n"
   ]
  },
  {
   "cell_type": "markdown",
   "id": "0f1621ca",
   "metadata": {},
   "source": [
    "## Mostramos la tabla y vemos sus datos"
   ]
  },
  {
   "cell_type": "code",
   "execution_count": 4,
   "id": "6e8c1b24",
   "metadata": {},
   "outputs": [
    {
     "name": "stdout",
     "output_type": "stream",
     "text": [
      "+-----------+--------+------+--------------------+------+----+-----+-----+----------------+-------+-----+--------+\n",
      "|PassengerId|Survived|Pclass|                Name|   Sex| Age|SibSp|Parch|          Ticket|   Fare|Cabin|Embarked|\n",
      "+-----------+--------+------+--------------------+------+----+-----+-----+----------------+-------+-----+--------+\n",
      "|          1|       0|     3|Braund, Mr. Owen ...|  male|22.0|    1|    0|       A/5 21171|   7.25| NULL|       S|\n",
      "|          2|       1|     1|Cumings, Mrs. Joh...|female|38.0|    1|    0|        PC 17599|71.2833|  C85|       C|\n",
      "|          3|       1|     3|Heikkinen, Miss. ...|female|26.0|    0|    0|STON/O2. 3101282|  7.925| NULL|       S|\n",
      "|          4|       1|     1|Futrelle, Mrs. Ja...|female|35.0|    1|    0|          113803|   53.1| C123|       S|\n",
      "|          5|       0|     3|Allen, Mr. Willia...|  male|35.0|    0|    0|          373450|   8.05| NULL|       S|\n",
      "|          6|       0|     3|    Moran, Mr. James|  male|NULL|    0|    0|          330877| 8.4583| NULL|       Q|\n",
      "|          7|       0|     1|McCarthy, Mr. Tim...|  male|54.0|    0|    0|           17463|51.8625|  E46|       S|\n",
      "|          8|       0|     3|Palsson, Master. ...|  male| 2.0|    3|    1|          349909| 21.075| NULL|       S|\n",
      "|          9|       1|     3|Johnson, Mrs. Osc...|female|27.0|    0|    2|          347742|11.1333| NULL|       S|\n",
      "|         10|       1|     2|Nasser, Mrs. Nich...|female|14.0|    1|    0|          237736|30.0708| NULL|       C|\n",
      "|         11|       1|     3|Sandstrom, Miss. ...|female| 4.0|    1|    1|         PP 9549|   16.7|   G6|       S|\n",
      "|         12|       1|     1|Bonnell, Miss. El...|female|58.0|    0|    0|          113783|  26.55| C103|       S|\n",
      "|         13|       0|     3|Saundercock, Mr. ...|  male|20.0|    0|    0|       A/5. 2151|   8.05| NULL|       S|\n",
      "|         14|       0|     3|Andersson, Mr. An...|  male|39.0|    1|    5|          347082| 31.275| NULL|       S|\n",
      "|         15|       0|     3|Vestrom, Miss. Hu...|female|14.0|    0|    0|          350406| 7.8542| NULL|       S|\n",
      "|         16|       1|     2|Hewlett, Mrs. (Ma...|female|55.0|    0|    0|          248706|   16.0| NULL|       S|\n",
      "|         17|       0|     3|Rice, Master. Eugene|  male| 2.0|    4|    1|          382652| 29.125| NULL|       Q|\n",
      "|         18|       1|     2|Williams, Mr. Cha...|  male|NULL|    0|    0|          244373|   13.0| NULL|       S|\n",
      "|         19|       0|     3|Vander Planke, Mr...|female|31.0|    1|    0|          345763|   18.0| NULL|       S|\n",
      "|         20|       1|     3|Masselmani, Mrs. ...|female|NULL|    0|    0|            2649|  7.225| NULL|       C|\n",
      "+-----------+--------+------+--------------------+------+----+-----+-----+----------------+-------+-----+--------+\n",
      "only showing top 20 rows\n",
      "\n"
     ]
    }
   ],
   "source": [
    "df.show()"
   ]
  },
  {
   "cell_type": "markdown",
   "id": "eb52c952",
   "metadata": {},
   "source": [
    "## Mostramos que tipo de datos tenemos"
   ]
  },
  {
   "cell_type": "code",
   "execution_count": 5,
   "id": "1698500b",
   "metadata": {
    "scrolled": true
   },
   "outputs": [
    {
     "name": "stdout",
     "output_type": "stream",
     "text": [
      "root\n",
      " |-- PassengerId: integer (nullable = true)\n",
      " |-- Survived: integer (nullable = true)\n",
      " |-- Pclass: integer (nullable = true)\n",
      " |-- Name: string (nullable = true)\n",
      " |-- Sex: string (nullable = true)\n",
      " |-- Age: double (nullable = true)\n",
      " |-- SibSp: integer (nullable = true)\n",
      " |-- Parch: integer (nullable = true)\n",
      " |-- Ticket: string (nullable = true)\n",
      " |-- Fare: double (nullable = true)\n",
      " |-- Cabin: string (nullable = true)\n",
      " |-- Embarked: string (nullable = true)\n",
      "\n"
     ]
    }
   ],
   "source": [
    "df.printSchema()"
   ]
  },
  {
   "cell_type": "markdown",
   "id": "af98b6cd",
   "metadata": {},
   "source": [
    "## Contamos filas"
   ]
  },
  {
   "cell_type": "code",
   "execution_count": 6,
   "id": "ea24cd5d",
   "metadata": {},
   "outputs": [
    {
     "data": {
      "text/plain": [
       "891"
      ]
     },
     "execution_count": 6,
     "metadata": {},
     "output_type": "execute_result"
    }
   ],
   "source": [
    "df.count()"
   ]
  },
  {
   "cell_type": "markdown",
   "id": "e517251d",
   "metadata": {},
   "source": [
    "## Cambiamos nombre"
   ]
  },
  {
   "cell_type": "code",
   "execution_count": 7,
   "id": "4e681984",
   "metadata": {},
   "outputs": [],
   "source": [
    "new_name = 'Name'\n",
    "df = df.withColumnRenamed('name', new_name)"
   ]
  },
  {
   "cell_type": "markdown",
   "id": "e905a260",
   "metadata": {},
   "source": [
    "## Con el metodo importado lpad, corregimos un poco la visual de la columna Name y Sex"
   ]
  },
  {
   "cell_type": "code",
   "execution_count": 8,
   "id": "ae7af2d8",
   "metadata": {},
   "outputs": [
    {
     "name": "stdout",
     "output_type": "stream",
     "text": [
      "+-----------+--------+------+--------------+------+----+-----+-----+----------------+-------+-----+--------+\n",
      "|PassengerId|Survived|Pclass|          Name|   Sex| Age|SibSp|Parch|          Ticket|   Fare|Cabin|Embarked|\n",
      "+-----------+--------+------+--------------+------+----+-----+-----+----------------+-------+-----+--------+\n",
      "|          1|       0|     3|Braund, Mr. Ow|  male|22.0|    1|    0|       A/5 21171|   7.25| NULL|       S|\n",
      "|          2|       1|     1|Cumings, Mrs. |female|38.0|    1|    0|        PC 17599|71.2833|  C85|       C|\n",
      "|          3|       1|     3|Heikkinen, Mis|female|26.0|    0|    0|STON/O2. 3101282|  7.925| NULL|       S|\n",
      "|          4|       1|     1|Futrelle, Mrs.|female|35.0|    1|    0|          113803|   53.1| C123|       S|\n",
      "|          5|       0|     3|Allen, Mr. Wil|  male|35.0|    0|    0|          373450|   8.05| NULL|       S|\n",
      "|          6|       0|     3|Moran, Mr. Jam|  male|NULL|    0|    0|          330877| 8.4583| NULL|       Q|\n",
      "|          7|       0|     1|McCarthy, Mr. |  male|54.0|    0|    0|           17463|51.8625|  E46|       S|\n",
      "|          8|       0|     3|Palsson, Maste|  male| 2.0|    3|    1|          349909| 21.075| NULL|       S|\n",
      "|          9|       1|     3|Johnson, Mrs. |female|27.0|    0|    2|          347742|11.1333| NULL|       S|\n",
      "|         10|       1|     2|Nasser, Mrs. N|female|14.0|    1|    0|          237736|30.0708| NULL|       C|\n",
      "|         11|       1|     3|Sandstrom, Mis|female| 4.0|    1|    1|         PP 9549|   16.7|   G6|       S|\n",
      "|         12|       1|     1|Bonnell, Miss.|female|58.0|    0|    0|          113783|  26.55| C103|       S|\n",
      "|         13|       0|     3|Saundercock, M|  male|20.0|    0|    0|       A/5. 2151|   8.05| NULL|       S|\n",
      "|         14|       0|     3|Andersson, Mr.|  male|39.0|    1|    5|          347082| 31.275| NULL|       S|\n",
      "|         15|       0|     3|Vestrom, Miss.|female|14.0|    0|    0|          350406| 7.8542| NULL|       S|\n",
      "|         16|       1|     2|Hewlett, Mrs. |female|55.0|    0|    0|          248706|   16.0| NULL|       S|\n",
      "|         17|       0|     3|Rice, Master. |  male| 2.0|    4|    1|          382652| 29.125| NULL|       Q|\n",
      "|         18|       1|     2|Williams, Mr. |  male|NULL|    0|    0|          244373|   13.0| NULL|       S|\n",
      "|         19|       0|     3|Vander Planke,|female|31.0|    1|    0|          345763|   18.0| NULL|       S|\n",
      "|         20|       1|     3|Masselmani, Mr|female|NULL|    0|    0|            2649|  7.225| NULL|       C|\n",
      "+-----------+--------+------+--------------+------+----+-----+-----+----------------+-------+-----+--------+\n",
      "only showing top 20 rows\n",
      "\n"
     ]
    }
   ],
   "source": [
    "df = df.withColumn(\"Name\", lpad(df[\"Name\"], 14, \" \"))\n",
    "df = df.withColumn(\"Sex\", lpad(df[\"Sex\"],6 , \" \"))\n",
    "df.show()"
   ]
  },
  {
   "cell_type": "markdown",
   "id": "c2ddf670",
   "metadata": {},
   "source": [
    "## Creamos una funcion para buscar nulos."
   ]
  },
  {
   "cell_type": "code",
   "execution_count": 9,
   "id": "c4e7b75b",
   "metadata": {},
   "outputs": [],
   "source": [
    "def BuscarNulos(df, columna):\n",
    "    nulos = df.filter(col(columna).isNull()).count()\n",
    "    return nulos"
   ]
  },
  {
   "cell_type": "code",
   "execution_count": 10,
   "id": "018708d8",
   "metadata": {},
   "outputs": [
    {
     "name": "stdout",
     "output_type": "stream",
     "text": [
      "La columna PassengerId tiene: 0 nulos\n",
      "La columna Survived tiene: 0 nulos\n",
      "La columna Pclass tiene: 0 nulos\n",
      "La columna Name tiene: 0 nulos\n",
      "La columna Sex tiene: 0 nulos\n",
      "La columna Age tiene: 177 nulos\n",
      "La columna SibSp tiene: 0 nulos\n",
      "La columna Parch tiene: 0 nulos\n",
      "La columna Ticket tiene: 0 nulos\n",
      "La columna Fare tiene: 0 nulos\n",
      "La columna Cabin tiene: 687 nulos\n",
      "La columna Embarked tiene: 2 nulos\n"
     ]
    }
   ],
   "source": [
    "print(f\"La columna PassengerId tiene: {BuscarNulos(df, 'PassengerId')} nulos\")\n",
    "print(f\"La columna Survived tiene: {BuscarNulos(df, 'Survived')} nulos\")\n",
    "print(f\"La columna Pclass tiene: {BuscarNulos(df, 'Pclass')} nulos\")\n",
    "print(f\"La columna Name tiene: {BuscarNulos(df, 'Name')} nulos\")\n",
    "print(f\"La columna Sex tiene: {BuscarNulos(df, 'Sex')} nulos\")\n",
    "print(f\"La columna Age tiene: {BuscarNulos(df, 'Age')} nulos\")\n",
    "print(f\"La columna SibSp tiene: {BuscarNulos(df, 'SibSp')} nulos\")\n",
    "print(f\"La columna Parch tiene: {BuscarNulos(df, 'Parch')} nulos\")\n",
    "print(f\"La columna Ticket tiene: {BuscarNulos(df, 'Ticket')} nulos\")\n",
    "print(f\"La columna Fare tiene: {BuscarNulos(df, 'Fare')} nulos\")\n",
    "print(f\"La columna Cabin tiene: {BuscarNulos(df, 'Cabin')} nulos\")\n",
    "print(f\"La columna Embarked tiene: {BuscarNulos(df, 'Embarked')} nulos\")\n",
    "\n"
   ]
  },
  {
   "cell_type": "markdown",
   "id": "f322d2e4",
   "metadata": {},
   "source": [
    "## Al ser un dataframe chico, la mejor opcion, es dropear la columna Cabin, ya que tiene 3/4 de valores NULL. Para posteriormente eliminar valores NULL."
   ]
  },
  {
   "cell_type": "code",
   "execution_count": 11,
   "id": "09c4159a",
   "metadata": {},
   "outputs": [],
   "source": [
    "df_drop = 'Cabin'\n",
    "df = df.drop(df_drop)"
   ]
  },
  {
   "cell_type": "markdown",
   "id": "0fd28e97",
   "metadata": {},
   "source": [
    "## Lo que tambien se puede hacer, es rellenar los datos NULL en la columna Age, por la media de valores de la misma columna.\n",
    "## En este caso no lo vamos hacer.\n"
   ]
  },
  {
   "cell_type": "code",
   "execution_count": 12,
   "id": "07df1396",
   "metadata": {},
   "outputs": [
    {
     "name": "stdout",
     "output_type": "stream",
     "text": [
      "29.699\n"
     ]
    }
   ],
   "source": [
    "new_values = 'Age'\n",
    "media = df.select(round(avg(new_values),3)).collect()[0][0]\n",
    "print(media)"
   ]
  },
  {
   "cell_type": "markdown",
   "id": "defcf5a6",
   "metadata": {},
   "source": [
    "## Eliminamos nulos"
   ]
  },
  {
   "cell_type": "code",
   "execution_count": 13,
   "id": "614985a4",
   "metadata": {},
   "outputs": [],
   "source": [
    "columns_null =['Embarked','Age']\n",
    "df = df.na.drop(subset=columns_null)"
   ]
  },
  {
   "cell_type": "markdown",
   "id": "00b7dffd",
   "metadata": {},
   "source": [
    "## Conclusiones:\n",
    "### A continuacion muestro la cantidad de fallecidos por sexo. Agrupamos por sex y agregamos la suma cuando la columna Survived sea igual 0 (Fallecio) se suma segun el sexo +1. De lo contrario (otherwise(0)) y creamos un alias."
   ]
  },
  {
   "cell_type": "code",
   "execution_count": 14,
   "id": "10373f68",
   "metadata": {},
   "outputs": [
    {
     "name": "stdout",
     "output_type": "stream",
     "text": [
      "+------+----------------------+\n",
      "|   Sex|Cantidad de fallecidos|\n",
      "+------+----------------------+\n",
      "|female|                    64|\n",
      "|  male|                   360|\n",
      "+------+----------------------+\n",
      "\n"
     ]
    }
   ],
   "source": [
    "result = df.groupBy(\"Sex\").agg(\n",
    "    sum(when(col(\"Survived\") == 0, 1).otherwise(0)).alias(\"Cantidad de fallecidos\"))\n",
    "result.show()"
   ]
  },
  {
   "cell_type": "code",
   "execution_count": 21,
   "id": "405b819a",
   "metadata": {},
   "outputs": [
    {
     "name": "stdout",
     "output_type": "stream",
     "text": [
      "+------+----------------------+\n",
      "|   Sex|Cantidad de fallecidos|\n",
      "+------+----------------------+\n",
      "|female|                    11|\n",
      "|  male|                    13|\n",
      "+------+----------------------+\n",
      "\n"
     ]
    }
   ],
   "source": [
    "df_filtered = df.filter(col('Age') < 10)\n",
    "result_age = df_filtered.groupBy(\"Sex\").agg(\n",
    "    sum(when(col(\"Survived\") == 0, 1).otherwise(0)).alias(\"Cantidad de fallecidos\")\n",
    ")\n",
    "result_age.show()"
   ]
  },
  {
   "cell_type": "code",
   "execution_count": 22,
   "id": "522f568e",
   "metadata": {},
   "outputs": [
    {
     "ename": "SyntaxError",
     "evalue": "invalid syntax (<ipython-input-22-f188d5ac1197>, line 1)",
     "output_type": "error",
     "traceback": [
      "\u001b[1;36m  File \u001b[1;32m\"<ipython-input-22-f188d5ac1197>\"\u001b[1;36m, line \u001b[1;32m1\u001b[0m\n\u001b[1;33m    git init\u001b[0m\n\u001b[1;37m           ^\u001b[0m\n\u001b[1;31mSyntaxError\u001b[0m\u001b[1;31m:\u001b[0m invalid syntax\n"
     ]
    }
   ],
   "source": []
  },
  {
   "cell_type": "code",
   "execution_count": null,
   "id": "21b48753",
   "metadata": {},
   "outputs": [],
   "source": []
  }
 ],
 "metadata": {
  "kernelspec": {
   "display_name": "Python 3",
   "language": "python",
   "name": "python3"
  },
  "language_info": {
   "codemirror_mode": {
    "name": "ipython",
    "version": 3
   },
   "file_extension": ".py",
   "mimetype": "text/x-python",
   "name": "python",
   "nbconvert_exporter": "python",
   "pygments_lexer": "ipython3",
   "version": "3.6.13"
  }
 },
 "nbformat": 4,
 "nbformat_minor": 5
}
